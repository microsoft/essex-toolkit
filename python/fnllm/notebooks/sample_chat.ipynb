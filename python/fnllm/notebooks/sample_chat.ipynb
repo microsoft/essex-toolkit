{
 "cells": [
  {
   "cell_type": "markdown",
   "metadata": {},
   "source": [
    "## Chat\n",
    "\n",
    "Sample notebook to showcase chat usage."
   ]
  },
  {
   "cell_type": "markdown",
   "metadata": {},
   "source": [
    "Required imports:"
   ]
  },
  {
   "cell_type": "code",
   "execution_count": 1,
   "metadata": {},
   "outputs": [],
   "source": [
    "# Copyright (c) 2024 Microsoft Corporation.\n",
    "\n",
    "import json\n",
    "import logging\n",
    "import os\n",
    "\n",
    "from fnllm import LLMEventsLogger\n",
    "from fnllm.caching import FileCache\n",
    "from fnllm.openai import AzureOpenAIConfig, OpenAIChatRole, create_openai_chat_llm\n",
    "from pydantic import BaseModel, Field"
   ]
  },
  {
   "cell_type": "markdown",
   "metadata": {},
   "source": [
    "Example logger to showcase event logging:"
   ]
  },
  {
   "cell_type": "code",
   "execution_count": 2,
   "metadata": {},
   "outputs": [],
   "source": [
    "def _create_logger():\n",
    "    logger = logging.getLogger(\"CHAT\")\n",
    "    logger.setLevel(logging.DEBUG)\n",
    "\n",
    "    handler = logging.StreamHandler()\n",
    "    handler.setLevel(logging.DEBUG)\n",
    "    handler.setFormatter(\n",
    "        logging.Formatter(\"[%(levelname)s %(asctime)s %(name)s] - %(message)s\")\n",
    "    )\n",
    "    logger.handlers = [handler]\n",
    "\n",
    "    return logger"
   ]
  },
  {
   "cell_type": "markdown",
   "metadata": {},
   "source": [
    "Creating chat client:"
   ]
  },
  {
   "cell_type": "code",
   "execution_count": 3,
   "metadata": {},
   "outputs": [],
   "source": [
    "config = AzureOpenAIConfig(\n",
    "    endpoint=os.environ(\"OPENAI_API_ENDPOINT\"),\n",
    "    api_version=os.environ(\"OPENAI_API_VERSION\"),\n",
    "    model=os.environ(\"OPENAI_API_MODEL\"),\n",
    "    encoding=os.environ(\"OPENAI_ENCODING\"),\n",
    ")\n",
    "\n",
    "chat_client = create_openai_chat_llm(\n",
    "    config,\n",
    "    events=LLMEventsLogger(_create_logger()),\n",
    "    cache=FileCache(\"sample_chat_cache\"),\n",
    ")"
   ]
  },
  {
   "cell_type": "code",
   "execution_count": 4,
   "metadata": {},
   "outputs": [
    {
     "name": "stderr",
     "output_type": "stream",
     "text": [
      "[INFO 2024-08-08 09:27:07,121 CHAT] - limit acquired for request, request_tokens=52, post_request_tokens=0\n",
      "[INFO 2024-08-08 09:27:07,134 CHAT] - cache hit for key=chat_ee131b2194d2b5b5b5f0d91e97cec349147d6ce5879578d56eeae7c3d61f5e3f_v2 and name=None\n",
      "[INFO 2024-08-08 09:27:07,135 CHAT] - LLM usage with 238 total tokens (input=52, output=186)\n",
      "[INFO 2024-08-08 09:27:07,136 CHAT] - limit released for request, request_tokens=52, post_request_tokens=0\n",
      "[INFO 2024-08-08 09:27:07,137 CHAT] - post request limiting triggered, acquired extra 186 tokens\n",
      "[INFO 2024-08-08 09:27:07,137 CHAT] - request succeed with 0 retries in 0.02s and used 238 tokens\n"
     ]
    },
    {
     "name": "stdout",
     "output_type": "stream",
     "text": [
      "{\n",
      "  \"output\": {\n",
      "    \"raw_input\": {\n",
      "      \"content\": \"Can you write me a hello world in rust?\",\n",
      "      \"role\": \"user\"\n",
      "    },\n",
      "    \"raw_output\": {\n",
      "      \"content\": \"Certainly! Here is a \\\"Hello, World!\\\" program written in Rust:\\n\\n```rust\\n// The main function is the entry point of a Rust program\\nfn main() {\\n    // The println! macro prints text to the console\\n    println!(\\\"Hello, world!\\\");\\n}\\n```\\n\\n### Explanation:\\n\\n1. `fn main() { ... }`\\n   - This defines the `main` function, which is the entry point of a Rust program. Every Rust program starts execution from the `main` function.\\n\\n2. `println!(\\\"Hello, world!\\\");`\\n   - `println!` is a macro (denoted by the `!` at the end) that prints text to the console.\\n   - `\\\"Hello, world!\\\"` is the string that will be printed.\\n\\nThis is one of the simplest programs you can write in Rust, and it demonstrates the basic structure of a Rust program and how to produce output.\",\n",
      "      \"role\": \"assistant\",\n",
      "      \"function_call\": null,\n",
      "      \"tool_calls\": null\n",
      "    },\n",
      "    \"content\": \"Certainly! Here is a \\\"Hello, World!\\\" program written in Rust:\\n\\n```rust\\n// The main function is the entry point of a Rust program\\nfn main() {\\n    // The println! macro prints text to the console\\n    println!(\\\"Hello, world!\\\");\\n}\\n```\\n\\n### Explanation:\\n\\n1. `fn main() { ... }`\\n   - This defines the `main` function, which is the entry point of a Rust program. Every Rust program starts execution from the `main` function.\\n\\n2. `println!(\\\"Hello, world!\\\");`\\n   - `println!` is a macro (denoted by the `!` at the end) that prints text to the console.\\n   - `\\\"Hello, world!\\\"` is the string that will be printed.\\n\\nThis is one of the simplest programs you can write in Rust, and it demonstrates the basic structure of a Rust program and how to produce output.\",\n",
      "    \"usage\": {\n",
      "      \"input_tokens\": 52,\n",
      "      \"output_tokens\": 186,\n",
      "      \"total_tokens\": 238\n",
      "    }\n",
      "  },\n",
      "  \"raw_json\": null,\n",
      "  \"parsed_json\": null,\n",
      "  \"history\": [\n",
      "    {\n",
      "      \"content\": \"You are a coding expert that is supposed to write the code blocks that have been asked. You should also insert comments in the code to explain its operation.\",\n",
      "      \"role\": \"system\"\n",
      "    },\n",
      "    {\n",
      "      \"content\": \"Can you write me a hello world in rust?\",\n",
      "      \"role\": \"user\"\n",
      "    },\n",
      "    {\n",
      "      \"role\": \"assistant\",\n",
      "      \"content\": \"Certainly! Here is a \\\"Hello, World!\\\" program written in Rust:\\n\\n```rust\\n// The main function is the entry point of a Rust program\\nfn main() {\\n    // The println! macro prints text to the console\\n    println!(\\\"Hello, world!\\\");\\n}\\n```\\n\\n### Explanation:\\n\\n1. `fn main() { ... }`\\n   - This defines the `main` function, which is the entry point of a Rust program. Every Rust program starts execution from the `main` function.\\n\\n2. `println!(\\\"Hello, world!\\\");`\\n   - `println!` is a macro (denoted by the `!` at the end) that prints text to the console.\\n   - `\\\"Hello, world!\\\"` is the string that will be printed.\\n\\nThis is one of the simplest programs you can write in Rust, and it demonstrates the basic structure of a Rust program and how to produce output.\"\n",
      "    }\n",
      "  ],\n",
      "  \"tool_calls\": [],\n",
      "  \"metrics\": {\n",
      "    \"estimated_input_tokens\": 52,\n",
      "    \"usage\": {\n",
      "      \"input_tokens\": 52,\n",
      "      \"output_tokens\": 186,\n",
      "      \"total_tokens\": 238\n",
      "    },\n",
      "    \"retry\": {\n",
      "      \"num_retries\": 0,\n",
      "      \"total_time\": 0.016893416999664623,\n",
      "      \"call_times\": [\n",
      "        0.01682891699965694\n",
      "      ]\n",
      "    },\n",
      "    \"tokens_diff\": 186\n",
      "  }\n",
      "}\n"
     ]
    }
   ],
   "source": [
    "system_message = OpenAIChatRole.System.message(\n",
    "    \"You are a coding expert that is supposed to write the code blocks that have been asked. You should also insert comments in the code to explain its operation.\",\n",
    ")\n",
    "\n",
    "response_0 = await chat_client(\n",
    "    \"Can you write me a hello world in rust?\", history=[system_message]\n",
    ")\n",
    "\n",
    "print(response_0.model_dump_json(indent=2))"
   ]
  },
  {
   "cell_type": "code",
   "execution_count": 5,
   "metadata": {},
   "outputs": [
    {
     "name": "stdout",
     "output_type": "stream",
     "text": [
      "Certainly! Here is a \"Hello, World!\" program written in Rust:\n",
      "\n",
      "```rust\n",
      "// The main function is the entry point of a Rust program\n",
      "fn main() {\n",
      "    // The println! macro prints text to the console\n",
      "    println!(\"Hello, world!\");\n",
      "}\n",
      "```\n",
      "\n",
      "### Explanation:\n",
      "\n",
      "1. `fn main() { ... }`\n",
      "   - This defines the `main` function, which is the entry point of a Rust program. Every Rust program starts execution from the `main` function.\n",
      "\n",
      "2. `println!(\"Hello, world!\");`\n",
      "   - `println!` is a macro (denoted by the `!` at the end) that prints text to the console.\n",
      "   - `\"Hello, world!\"` is the string that will be printed.\n",
      "\n",
      "This is one of the simplest programs you can write in Rust, and it demonstrates the basic structure of a Rust program and how to produce output.\n"
     ]
    }
   ],
   "source": [
    "print(response_0.output.content)"
   ]
  },
  {
   "cell_type": "markdown",
   "metadata": {},
   "source": [
    "Adding history from previous request:"
   ]
  },
  {
   "cell_type": "code",
   "execution_count": 6,
   "metadata": {},
   "outputs": [
    {
     "name": "stderr",
     "output_type": "stream",
     "text": [
      "[INFO 2024-08-08 09:27:07,154 CHAT] - limit acquired for request, request_tokens=293, post_request_tokens=0\n",
      "[INFO 2024-08-08 09:27:07,161 CHAT] - cache hit for key=chat_326150e9d533975559a19774e7fc2b7620e8e44bc98002523b1c59ab64dacf75_v2 and name=None\n",
      "[INFO 2024-08-08 09:27:07,161 CHAT] - LLM usage with 504 total tokens (input=256, output=248)\n",
      "[INFO 2024-08-08 09:27:07,162 CHAT] - limit released for request, request_tokens=293, post_request_tokens=0\n",
      "[INFO 2024-08-08 09:27:07,162 CHAT] - post request limiting triggered, acquired extra 211 tokens\n",
      "[INFO 2024-08-08 09:27:07,162 CHAT] - request succeed with 0 retries in 0.01s and used 504 tokens\n"
     ]
    },
    {
     "name": "stdout",
     "output_type": "stream",
     "text": [
      "{\n",
      "  \"output\": {\n",
      "    \"raw_input\": {\n",
      "      \"content\": \"Awesome! Can you now translate this to python?\",\n",
      "      \"role\": \"user\"\n",
      "    },\n",
      "    \"raw_output\": {\n",
      "      \"content\": \"Of course! Here is the equivalent \\\"Hello, World!\\\" program written in Python:\\n\\n```python\\n# The main function is the entry point of a Python program\\ndef main():\\n    # The print function prints text to the console\\n    print(\\\"Hello, world!\\\")\\n\\n# The following if statement ensures that main() is called only when this script is run directly\\nif __name__ == \\\"__main__\\\":\\n    main()\\n```\\n\\n### Explanation:\\n\\n1. `def main():`\\n   - This defines the `main` function, which acts as the entry point of the program. However, unlike Rust, Python does not require a `main` function, but it's a common convention to define one for organization.\\n\\n2. `print(\\\"Hello, world!\\\")`\\n   - The `print` function outputs the specified string to the console.\\n\\n3. `if __name__ == \\\"__main__\\\":`\\n   - This if-statement ensures that the `main` function is called only when the script is executed directly (not when it is imported as a module in another script).\\n   - `main()` is then called within this if statement to ensure the program behaves as expected.\\n\\nThis Python script will produce the same output as the Rust program.\",\n",
      "      \"role\": \"assistant\",\n",
      "      \"function_call\": null,\n",
      "      \"tool_calls\": null\n",
      "    },\n",
      "    \"content\": \"Of course! Here is the equivalent \\\"Hello, World!\\\" program written in Python:\\n\\n```python\\n# The main function is the entry point of a Python program\\ndef main():\\n    # The print function prints text to the console\\n    print(\\\"Hello, world!\\\")\\n\\n# The following if statement ensures that main() is called only when this script is run directly\\nif __name__ == \\\"__main__\\\":\\n    main()\\n```\\n\\n### Explanation:\\n\\n1. `def main():`\\n   - This defines the `main` function, which acts as the entry point of the program. However, unlike Rust, Python does not require a `main` function, but it's a common convention to define one for organization.\\n\\n2. `print(\\\"Hello, world!\\\")`\\n   - The `print` function outputs the specified string to the console.\\n\\n3. `if __name__ == \\\"__main__\\\":`\\n   - This if-statement ensures that the `main` function is called only when the script is executed directly (not when it is imported as a module in another script).\\n   - `main()` is then called within this if statement to ensure the program behaves as expected.\\n\\nThis Python script will produce the same output as the Rust program.\",\n",
      "    \"usage\": {\n",
      "      \"input_tokens\": 256,\n",
      "      \"output_tokens\": 248,\n",
      "      \"total_tokens\": 504\n",
      "    }\n",
      "  },\n",
      "  \"raw_json\": null,\n",
      "  \"parsed_json\": null,\n",
      "  \"history\": [\n",
      "    {\n",
      "      \"content\": \"You are a coding expert that is supposed to write the code blocks that have been asked. You should also insert comments in the code to explain its operation.\",\n",
      "      \"role\": \"system\"\n",
      "    },\n",
      "    {\n",
      "      \"content\": \"Can you write me a hello world in rust?\",\n",
      "      \"role\": \"user\"\n",
      "    },\n",
      "    {\n",
      "      \"role\": \"assistant\",\n",
      "      \"content\": \"Certainly! Here is a \\\"Hello, World!\\\" program written in Rust:\\n\\n```rust\\n// The main function is the entry point of a Rust program\\nfn main() {\\n    // The println! macro prints text to the console\\n    println!(\\\"Hello, world!\\\");\\n}\\n```\\n\\n### Explanation:\\n\\n1. `fn main() { ... }`\\n   - This defines the `main` function, which is the entry point of a Rust program. Every Rust program starts execution from the `main` function.\\n\\n2. `println!(\\\"Hello, world!\\\");`\\n   - `println!` is a macro (denoted by the `!` at the end) that prints text to the console.\\n   - `\\\"Hello, world!\\\"` is the string that will be printed.\\n\\nThis is one of the simplest programs you can write in Rust, and it demonstrates the basic structure of a Rust program and how to produce output.\"\n",
      "    },\n",
      "    {\n",
      "      \"content\": \"Awesome! Can you now translate this to python?\",\n",
      "      \"role\": \"user\"\n",
      "    },\n",
      "    {\n",
      "      \"role\": \"assistant\",\n",
      "      \"content\": \"Of course! Here is the equivalent \\\"Hello, World!\\\" program written in Python:\\n\\n```python\\n# The main function is the entry point of a Python program\\ndef main():\\n    # The print function prints text to the console\\n    print(\\\"Hello, world!\\\")\\n\\n# The following if statement ensures that main() is called only when this script is run directly\\nif __name__ == \\\"__main__\\\":\\n    main()\\n```\\n\\n### Explanation:\\n\\n1. `def main():`\\n   - This defines the `main` function, which acts as the entry point of the program. However, unlike Rust, Python does not require a `main` function, but it's a common convention to define one for organization.\\n\\n2. `print(\\\"Hello, world!\\\")`\\n   - The `print` function outputs the specified string to the console.\\n\\n3. `if __name__ == \\\"__main__\\\":`\\n   - This if-statement ensures that the `main` function is called only when the script is executed directly (not when it is imported as a module in another script).\\n   - `main()` is then called within this if statement to ensure the program behaves as expected.\\n\\nThis Python script will produce the same output as the Rust program.\"\n",
      "    }\n",
      "  ],\n",
      "  \"tool_calls\": [],\n",
      "  \"metrics\": {\n",
      "    \"estimated_input_tokens\": 293,\n",
      "    \"usage\": {\n",
      "      \"input_tokens\": 256,\n",
      "      \"output_tokens\": 248,\n",
      "      \"total_tokens\": 504\n",
      "    },\n",
      "    \"retry\": {\n",
      "      \"num_retries\": 0,\n",
      "      \"total_time\": 0.009666000001743669,\n",
      "      \"call_times\": [\n",
      "        0.009617624997190433\n",
      "      ]\n",
      "    },\n",
      "    \"tokens_diff\": 211\n",
      "  }\n",
      "}\n"
     ]
    }
   ],
   "source": [
    "response_1 = await chat_client(\n",
    "    \"Awesome! Can you now translate this to $language?\",\n",
    "    history=response_0.history,\n",
    "    variables={\"language\": \"python\"},\n",
    ")\n",
    "\n",
    "print(response_1.model_dump_json(indent=2))"
   ]
  },
  {
   "cell_type": "code",
   "execution_count": 7,
   "metadata": {},
   "outputs": [
    {
     "name": "stdout",
     "output_type": "stream",
     "text": [
      "Of course! Here is the equivalent \"Hello, World!\" program written in Python:\n",
      "\n",
      "```python\n",
      "# The main function is the entry point of a Python program\n",
      "def main():\n",
      "    # The print function prints text to the console\n",
      "    print(\"Hello, world!\")\n",
      "\n",
      "# The following if statement ensures that main() is called only when this script is run directly\n",
      "if __name__ == \"__main__\":\n",
      "    main()\n",
      "```\n",
      "\n",
      "### Explanation:\n",
      "\n",
      "1. `def main():`\n",
      "   - This defines the `main` function, which acts as the entry point of the program. However, unlike Rust, Python does not require a `main` function, but it's a common convention to define one for organization.\n",
      "\n",
      "2. `print(\"Hello, world!\")`\n",
      "   - The `print` function outputs the specified string to the console.\n",
      "\n",
      "3. `if __name__ == \"__main__\":`\n",
      "   - This if-statement ensures that the `main` function is called only when the script is executed directly (not when it is imported as a module in another script).\n",
      "   - `main()` is then called within this if statement to ensure the program behaves as expected.\n",
      "\n",
      "This Python script will produce the same output as the Rust program.\n"
     ]
    }
   ],
   "source": [
    "print(response_1.output.content)"
   ]
  },
  {
   "cell_type": "markdown",
   "metadata": {},
   "source": [
    "### JSON response"
   ]
  },
  {
   "cell_type": "code",
   "execution_count": 8,
   "metadata": {},
   "outputs": [
    {
     "name": "stderr",
     "output_type": "stream",
     "text": [
      "[INFO 2024-08-08 09:27:07,170 CHAT] - limit acquired for request, request_tokens=617, post_request_tokens=0\n",
      "[INFO 2024-08-08 09:27:07,174 CHAT] - cache hit for key=chat_5bdfb9715c1c914e469237b58adc08b5543d8786710a78e543224ce9612db330_v2 and name=None\n",
      "[INFO 2024-08-08 09:27:07,175 CHAT] - LLM usage with 600 total tokens (input=536, output=64)\n",
      "[INFO 2024-08-08 09:27:07,175 CHAT] - limit released for request, request_tokens=617, post_request_tokens=0\n",
      "[INFO 2024-08-08 09:27:07,175 CHAT] - request succeed with 0 retries in 0.01s and used 600 tokens\n"
     ]
    },
    {
     "name": "stdout",
     "output_type": "stream",
     "text": [
      "{\n",
      "  \"output\": {\n",
      "    \"raw_input\": {\n",
      "      \"content\": \"\\n    Can you summarize our conversation so far as a JSON object with a summary, languages and multi_platform attributes?\\n    \",\n",
      "      \"role\": \"user\"\n",
      "    },\n",
      "    \"raw_output\": {\n",
      "      \"content\": \"\\n    {\\n        \\\"summary\\\": \\\"We discussed 'Hello, World!' programs in Rust and Python. The Rust program was explained first, followed by its equivalent in Python. Both snippets were described with comments detailing their function.\\\",\\n        \\\"languages\\\": [\\\"Rust\\\", \\\"Python\\\"],\\n        \\\"multi_platform\\\": true\\n    }\",\n",
      "      \"role\": \"assistant\",\n",
      "      \"function_call\": null,\n",
      "      \"tool_calls\": null\n",
      "    },\n",
      "    \"content\": \"\\n    {\\n        \\\"summary\\\": \\\"We discussed 'Hello, World!' programs in Rust and Python. The Rust program was explained first, followed by its equivalent in Python. Both snippets were described with comments detailing their function.\\\",\\n        \\\"languages\\\": [\\\"Rust\\\", \\\"Python\\\"],\\n        \\\"multi_platform\\\": true\\n    }\",\n",
      "    \"usage\": {\n",
      "      \"input_tokens\": 536,\n",
      "      \"output_tokens\": 64,\n",
      "      \"total_tokens\": 600\n",
      "    }\n",
      "  },\n",
      "  \"raw_json\": {\n",
      "    \"summary\": \"We discussed 'Hello, World!' programs in Rust and Python. The Rust program was explained first, followed by its equivalent in Python. Both snippets were described with comments detailing their function.\",\n",
      "    \"languages\": [\n",
      "      \"Rust\",\n",
      "      \"Python\"\n",
      "    ],\n",
      "    \"multi_platform\": true\n",
      "  },\n",
      "  \"parsed_json\": null,\n",
      "  \"history\": [\n",
      "    {\n",
      "      \"content\": \"You are a coding expert that is supposed to write the code blocks that have been asked. You should also insert comments in the code to explain its operation.\",\n",
      "      \"role\": \"system\"\n",
      "    },\n",
      "    {\n",
      "      \"content\": \"Can you write me a hello world in rust?\",\n",
      "      \"role\": \"user\"\n",
      "    },\n",
      "    {\n",
      "      \"role\": \"assistant\",\n",
      "      \"content\": \"Certainly! Here is a \\\"Hello, World!\\\" program written in Rust:\\n\\n```rust\\n// The main function is the entry point of a Rust program\\nfn main() {\\n    // The println! macro prints text to the console\\n    println!(\\\"Hello, world!\\\");\\n}\\n```\\n\\n### Explanation:\\n\\n1. `fn main() { ... }`\\n   - This defines the `main` function, which is the entry point of a Rust program. Every Rust program starts execution from the `main` function.\\n\\n2. `println!(\\\"Hello, world!\\\");`\\n   - `println!` is a macro (denoted by the `!` at the end) that prints text to the console.\\n   - `\\\"Hello, world!\\\"` is the string that will be printed.\\n\\nThis is one of the simplest programs you can write in Rust, and it demonstrates the basic structure of a Rust program and how to produce output.\"\n",
      "    },\n",
      "    {\n",
      "      \"content\": \"Awesome! Can you now translate this to python?\",\n",
      "      \"role\": \"user\"\n",
      "    },\n",
      "    {\n",
      "      \"role\": \"assistant\",\n",
      "      \"content\": \"Of course! Here is the equivalent \\\"Hello, World!\\\" program written in Python:\\n\\n```python\\n# The main function is the entry point of a Python program\\ndef main():\\n    # The print function prints text to the console\\n    print(\\\"Hello, world!\\\")\\n\\n# The following if statement ensures that main() is called only when this script is run directly\\nif __name__ == \\\"__main__\\\":\\n    main()\\n```\\n\\n### Explanation:\\n\\n1. `def main():`\\n   - This defines the `main` function, which acts as the entry point of the program. However, unlike Rust, Python does not require a `main` function, but it's a common convention to define one for organization.\\n\\n2. `print(\\\"Hello, world!\\\")`\\n   - The `print` function outputs the specified string to the console.\\n\\n3. `if __name__ == \\\"__main__\\\":`\\n   - This if-statement ensures that the `main` function is called only when the script is executed directly (not when it is imported as a module in another script).\\n   - `main()` is then called within this if statement to ensure the program behaves as expected.\\n\\nThis Python script will produce the same output as the Rust program.\"\n",
      "    },\n",
      "    {\n",
      "      \"content\": \"\\n    Can you summarize our conversation so far as a JSON object with a summary, languages and multi_platform attributes?\\n    \",\n",
      "      \"role\": \"user\"\n",
      "    },\n",
      "    {\n",
      "      \"role\": \"assistant\",\n",
      "      \"content\": \"\\n    {\\n        \\\"summary\\\": \\\"We discussed 'Hello, World!' programs in Rust and Python. The Rust program was explained first, followed by its equivalent in Python. Both snippets were described with comments detailing their function.\\\",\\n        \\\"languages\\\": [\\\"Rust\\\", \\\"Python\\\"],\\n        \\\"multi_platform\\\": true\\n    }\"\n",
      "    }\n",
      "  ],\n",
      "  \"tool_calls\": [],\n",
      "  \"metrics\": {\n",
      "    \"estimated_input_tokens\": 617,\n",
      "    \"usage\": {\n",
      "      \"input_tokens\": 536,\n",
      "      \"output_tokens\": 64,\n",
      "      \"total_tokens\": 600\n",
      "    },\n",
      "    \"retry\": {\n",
      "      \"num_retries\": 0,\n",
      "      \"total_time\": 0.006476209000538802,\n",
      "      \"call_times\": [\n",
      "        0.006422416998248082\n",
      "      ]\n",
      "    },\n",
      "    \"tokens_diff\": -17\n",
      "  }\n",
      "}\n"
     ]
    }
   ],
   "source": [
    "response_2 = await chat_client(\n",
    "    \"\"\"\n",
    "    Can you summarize our conversation so far as a JSON object with a summary, languages and multi_platform attributes?\n",
    "    \"\"\",\n",
    "    history=response_1.history,\n",
    "    json=True,\n",
    ")\n",
    "\n",
    "print(response_2.model_dump_json(indent=2))"
   ]
  },
  {
   "cell_type": "markdown",
   "metadata": {},
   "source": [
    "The raw JSON response is a python dict or list:"
   ]
  },
  {
   "cell_type": "code",
   "execution_count": 9,
   "metadata": {},
   "outputs": [
    {
     "name": "stdout",
     "output_type": "stream",
     "text": [
      "{\n",
      "    \"summary\": \"We discussed 'Hello, World!' programs in Rust and Python. The Rust program was explained first, followed by its equivalent in Python. Both snippets were described with comments detailing their function.\",\n",
      "    \"languages\": [\n",
      "        \"Rust\",\n",
      "        \"Python\"\n",
      "    ],\n",
      "    \"multi_platform\": true\n",
      "}\n"
     ]
    }
   ],
   "source": [
    "print(json.dumps(response_2.raw_json, indent=4))"
   ]
  },
  {
   "cell_type": "markdown",
   "metadata": {},
   "source": [
    "### JSON response with model validation"
   ]
  },
  {
   "cell_type": "code",
   "execution_count": 10,
   "metadata": {},
   "outputs": [],
   "source": [
    "class Summary(BaseModel):\n",
    "    \"\"\"Summary.\"\"\"\n",
    "\n",
    "    languages: list[str] = Field(description=\"List of languages covered.\")\n",
    "\n",
    "    summary: str = Field(description=\"Summary of what has been discussed.\")\n",
    "\n",
    "    multi_platform: bool = Field(\n",
    "        description=\"Where the given codes can be considered multi-platform.\"\n",
    "    )"
   ]
  },
  {
   "cell_type": "code",
   "execution_count": 11,
   "metadata": {},
   "outputs": [
    {
     "name": "stderr",
     "output_type": "stream",
     "text": [
      "[INFO 2024-08-08 09:27:07,189 CHAT] - limit acquired for request, request_tokens=652, post_request_tokens=0\n",
      "[INFO 2024-08-08 09:27:07,194 CHAT] - cache hit for key=chat_708a50ae000e289182630f3de3021736ab3e904e492528b4d2b38f8c232c96d8_v2 and name=None\n",
      "[INFO 2024-08-08 09:27:07,194 CHAT] - LLM usage with 824 total tokens (input=729, output=95)\n",
      "[INFO 2024-08-08 09:27:07,195 CHAT] - limit released for request, request_tokens=652, post_request_tokens=0\n",
      "[INFO 2024-08-08 09:27:07,195 CHAT] - post request limiting triggered, acquired extra 172 tokens\n",
      "[INFO 2024-08-08 09:27:07,195 CHAT] - request succeed with 0 retries in 0.01s and used 824 tokens\n"
     ]
    },
    {
     "name": "stdout",
     "output_type": "stream",
     "text": [
      "{\n",
      "  \"output\": {\n",
      "    \"raw_input\": {\n",
      "      \"content\": \"\\n    Can you summarize our conversation so far returning a JSON object that follows the JSON schema below? The response is not that JSON schema, but a response that follows it.\\n\\n    SCHEMA\\n    ------\\n    {\\n  \\\"description\\\": \\\"Summary.\\\",\\n  \\\"properties\\\": {\\n    \\\"languages\\\": {\\n      \\\"description\\\": \\\"List of languages covered.\\\",\\n      \\\"items\\\": {\\n        \\\"type\\\": \\\"string\\\"\\n      },\\n      \\\"title\\\": \\\"Languages\\\",\\n      \\\"type\\\": \\\"array\\\"\\n    },\\n    \\\"summary\\\": {\\n      \\\"description\\\": \\\"Summary of what has been discussed.\\\",\\n      \\\"title\\\": \\\"Summary\\\",\\n      \\\"type\\\": \\\"string\\\"\\n    },\\n    \\\"multi_platform\\\": {\\n      \\\"description\\\": \\\"Where the given codes can be considered multi-platform.\\\",\\n      \\\"title\\\": \\\"Multi Platform\\\",\\n      \\\"type\\\": \\\"boolean\\\"\\n    }\\n  },\\n  \\\"required\\\": [\\n    \\\"languages\\\",\\n    \\\"summary\\\",\\n    \\\"multi_platform\\\"\\n  ],\\n  \\\"title\\\": \\\"Summary\\\",\\n  \\\"type\\\": \\\"object\\\"\\n}\\n\\n    YOUR RESPONSE\\n    -------------\\n    \",\n",
      "      \"role\": \"user\"\n",
      "    },\n",
      "    \"raw_output\": {\n",
      "      \"content\": \"{\\n  \\\"languages\\\": [\\\"Rust\\\", \\\"Python\\\"],\\n  \\\"summary\\\": \\\"We discussed writing a 'Hello, World!' program in Rust and then translated that program into Python. The Rust program uses the `main` function and the `println!` macro to print the message. The Python equivalent uses a `main` function and the `print` statement inside an `if __name__ == '__main__':` block.\\\",\\n  \\\"multi_platform\\\": false\\n}\",\n",
      "      \"role\": \"assistant\",\n",
      "      \"function_call\": null,\n",
      "      \"tool_calls\": null\n",
      "    },\n",
      "    \"content\": \"{\\n  \\\"languages\\\": [\\\"Rust\\\", \\\"Python\\\"],\\n  \\\"summary\\\": \\\"We discussed writing a 'Hello, World!' program in Rust and then translated that program into Python. The Rust program uses the `main` function and the `println!` macro to print the message. The Python equivalent uses a `main` function and the `print` statement inside an `if __name__ == '__main__':` block.\\\",\\n  \\\"multi_platform\\\": false\\n}\",\n",
      "    \"usage\": {\n",
      "      \"input_tokens\": 729,\n",
      "      \"output_tokens\": 95,\n",
      "      \"total_tokens\": 824\n",
      "    }\n",
      "  },\n",
      "  \"raw_json\": {\n",
      "    \"languages\": [\n",
      "      \"Rust\",\n",
      "      \"Python\"\n",
      "    ],\n",
      "    \"summary\": \"We discussed writing a 'Hello, World!' program in Rust and then translated that program into Python. The Rust program uses the `main` function and the `println!` macro to print the message. The Python equivalent uses a `main` function and the `print` statement inside an `if __name__ == '__main__':` block.\",\n",
      "    \"multi_platform\": false\n",
      "  },\n",
      "  \"parsed_json\": {\n",
      "    \"languages\": [\n",
      "      \"Rust\",\n",
      "      \"Python\"\n",
      "    ],\n",
      "    \"summary\": \"We discussed writing a 'Hello, World!' program in Rust and then translated that program into Python. The Rust program uses the `main` function and the `println!` macro to print the message. The Python equivalent uses a `main` function and the `print` statement inside an `if __name__ == '__main__':` block.\",\n",
      "    \"multi_platform\": false\n",
      "  },\n",
      "  \"history\": [\n",
      "    {\n",
      "      \"content\": \"You are a coding expert that is supposed to write the code blocks that have been asked. You should also insert comments in the code to explain its operation.\",\n",
      "      \"role\": \"system\"\n",
      "    },\n",
      "    {\n",
      "      \"content\": \"Can you write me a hello world in rust?\",\n",
      "      \"role\": \"user\"\n",
      "    },\n",
      "    {\n",
      "      \"role\": \"assistant\",\n",
      "      \"content\": \"Certainly! Here is a \\\"Hello, World!\\\" program written in Rust:\\n\\n```rust\\n// The main function is the entry point of a Rust program\\nfn main() {\\n    // The println! macro prints text to the console\\n    println!(\\\"Hello, world!\\\");\\n}\\n```\\n\\n### Explanation:\\n\\n1. `fn main() { ... }`\\n   - This defines the `main` function, which is the entry point of a Rust program. Every Rust program starts execution from the `main` function.\\n\\n2. `println!(\\\"Hello, world!\\\");`\\n   - `println!` is a macro (denoted by the `!` at the end) that prints text to the console.\\n   - `\\\"Hello, world!\\\"` is the string that will be printed.\\n\\nThis is one of the simplest programs you can write in Rust, and it demonstrates the basic structure of a Rust program and how to produce output.\"\n",
      "    },\n",
      "    {\n",
      "      \"content\": \"Awesome! Can you now translate this to python?\",\n",
      "      \"role\": \"user\"\n",
      "    },\n",
      "    {\n",
      "      \"role\": \"assistant\",\n",
      "      \"content\": \"Of course! Here is the equivalent \\\"Hello, World!\\\" program written in Python:\\n\\n```python\\n# The main function is the entry point of a Python program\\ndef main():\\n    # The print function prints text to the console\\n    print(\\\"Hello, world!\\\")\\n\\n# The following if statement ensures that main() is called only when this script is run directly\\nif __name__ == \\\"__main__\\\":\\n    main()\\n```\\n\\n### Explanation:\\n\\n1. `def main():`\\n   - This defines the `main` function, which acts as the entry point of the program. However, unlike Rust, Python does not require a `main` function, but it's a common convention to define one for organization.\\n\\n2. `print(\\\"Hello, world!\\\")`\\n   - The `print` function outputs the specified string to the console.\\n\\n3. `if __name__ == \\\"__main__\\\":`\\n   - This if-statement ensures that the `main` function is called only when the script is executed directly (not when it is imported as a module in another script).\\n   - `main()` is then called within this if statement to ensure the program behaves as expected.\\n\\nThis Python script will produce the same output as the Rust program.\"\n",
      "    },\n",
      "    {\n",
      "      \"content\": \"\\n    Can you summarize our conversation so far returning a JSON object that follows the JSON schema below? The response is not that JSON schema, but a response that follows it.\\n\\n    SCHEMA\\n    ------\\n    {\\n  \\\"description\\\": \\\"Summary.\\\",\\n  \\\"properties\\\": {\\n    \\\"languages\\\": {\\n      \\\"description\\\": \\\"List of languages covered.\\\",\\n      \\\"items\\\": {\\n        \\\"type\\\": \\\"string\\\"\\n      },\\n      \\\"title\\\": \\\"Languages\\\",\\n      \\\"type\\\": \\\"array\\\"\\n    },\\n    \\\"summary\\\": {\\n      \\\"description\\\": \\\"Summary of what has been discussed.\\\",\\n      \\\"title\\\": \\\"Summary\\\",\\n      \\\"type\\\": \\\"string\\\"\\n    },\\n    \\\"multi_platform\\\": {\\n      \\\"description\\\": \\\"Where the given codes can be considered multi-platform.\\\",\\n      \\\"title\\\": \\\"Multi Platform\\\",\\n      \\\"type\\\": \\\"boolean\\\"\\n    }\\n  },\\n  \\\"required\\\": [\\n    \\\"languages\\\",\\n    \\\"summary\\\",\\n    \\\"multi_platform\\\"\\n  ],\\n  \\\"title\\\": \\\"Summary\\\",\\n  \\\"type\\\": \\\"object\\\"\\n}\\n\\n    YOUR RESPONSE\\n    -------------\\n    \",\n",
      "      \"role\": \"user\"\n",
      "    },\n",
      "    {\n",
      "      \"role\": \"assistant\",\n",
      "      \"content\": \"{\\n  \\\"languages\\\": [\\\"Rust\\\", \\\"Python\\\"],\\n  \\\"summary\\\": \\\"We discussed writing a 'Hello, World!' program in Rust and then translated that program into Python. The Rust program uses the `main` function and the `println!` macro to print the message. The Python equivalent uses a `main` function and the `print` statement inside an `if __name__ == '__main__':` block.\\\",\\n  \\\"multi_platform\\\": false\\n}\"\n",
      "    }\n",
      "  ],\n",
      "  \"tool_calls\": [],\n",
      "  \"metrics\": {\n",
      "    \"estimated_input_tokens\": 652,\n",
      "    \"usage\": {\n",
      "      \"input_tokens\": 729,\n",
      "      \"output_tokens\": 95,\n",
      "      \"total_tokens\": 824\n",
      "    },\n",
      "    \"retry\": {\n",
      "      \"num_retries\": 0,\n",
      "      \"total_time\": 0.0061601669985975605,\n",
      "      \"call_times\": [\n",
      "        0.006111082999268547\n",
      "      ]\n",
      "    },\n",
      "    \"tokens_diff\": 172\n",
      "  }\n",
      "}\n"
     ]
    }
   ],
   "source": [
    "response_3 = await chat_client(\n",
    "    \"\"\"\n",
    "    Can you summarize our conversation so far returning a JSON object that follows the JSON schema below? The response is not that JSON schema, but a response that follows it.\n",
    "\n",
    "    SCHEMA\n",
    "    ------\n",
    "    $schema\n",
    "\n",
    "    YOUR RESPONSE\n",
    "    -------------\n",
    "    \"\"\",\n",
    "    history=response_1.history,\n",
    "    variables={\"schema\": json.dumps(Summary.model_json_schema(), indent=2)},\n",
    "    json_model=Summary,\n",
    ")\n",
    "\n",
    "print(response_3.model_dump_json(indent=2))"
   ]
  },
  {
   "cell_type": "markdown",
   "metadata": {},
   "source": [
    "The parsed JSON response is already an instance of the given model:"
   ]
  },
  {
   "cell_type": "code",
   "execution_count": 12,
   "metadata": {},
   "outputs": [
    {
     "data": {
      "text/plain": [
       "__main__.Summary"
      ]
     },
     "execution_count": 12,
     "metadata": {},
     "output_type": "execute_result"
    }
   ],
   "source": [
    "type(response_3.parsed_json)"
   ]
  },
  {
   "cell_type": "code",
   "execution_count": 13,
   "metadata": {},
   "outputs": [
    {
     "name": "stdout",
     "output_type": "stream",
     "text": [
      "{\n",
      "  \"languages\": [\n",
      "    \"Rust\",\n",
      "    \"Python\"\n",
      "  ],\n",
      "  \"summary\": \"We discussed writing a 'Hello, World!' program in Rust and then translated that program into Python. The Rust program uses the `main` function and the `println!` macro to print the message. The Python equivalent uses a `main` function and the `print` statement inside an `if __name__ == '__main__':` block.\",\n",
      "  \"multi_platform\": false\n",
      "}\n"
     ]
    }
   ],
   "source": [
    "if response_3.parsed_json:\n",
    "    print(response_3.parsed_json.model_dump_json(indent=2))"
   ]
  }
 ],
 "metadata": {
  "kernelspec": {
   "display_name": ".venv",
   "language": "python",
   "name": "python3"
  },
  "language_info": {
   "codemirror_mode": {
    "name": "ipython",
    "version": 3
   },
   "file_extension": ".py",
   "mimetype": "text/x-python",
   "name": "python",
   "nbconvert_exporter": "python",
   "pygments_lexer": "ipython3",
   "version": "3.11.9"
  }
 },
 "nbformat": 4,
 "nbformat_minor": 2
}
