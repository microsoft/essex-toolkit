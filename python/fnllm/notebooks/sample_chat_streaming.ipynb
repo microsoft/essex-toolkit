{
 "cells": [
  {
   "cell_type": "markdown",
   "metadata": {},
   "source": [
    "## Chat\n",
    "\n",
    "Sample notebook to showcase chat usage."
   ]
  },
  {
   "cell_type": "markdown",
   "metadata": {},
   "source": [
    "Required imports:"
   ]
  },
  {
   "cell_type": "code",
   "execution_count": null,
   "metadata": {},
   "outputs": [],
   "source": [
    "# Copyright (c) 2024 Microsoft Corporation.\n",
    "\n",
    "import logging\n",
    "import os\n",
    "\n",
    "from fnllm import LLMEventsLogger\n",
    "from fnllm.openai import (\n",
    "    AzureOpenAIConfig,\n",
    "    OpenAIChatRole,\n",
    "    create_openai_chat_llm,\n",
    ")"
   ]
  },
  {
   "cell_type": "markdown",
   "metadata": {},
   "source": [
    "Example logger to showcase event logging:"
   ]
  },
  {
   "cell_type": "code",
   "execution_count": null,
   "metadata": {},
   "outputs": [],
   "source": [
    "def _create_logger():\n",
    "    logger = logging.getLogger(\"CHAT\")\n",
    "    logger.setLevel(logging.DEBUG)\n",
    "\n",
    "    handler = logging.StreamHandler()\n",
    "    handler.setLevel(logging.DEBUG)\n",
    "    handler.setFormatter(\n",
    "        logging.Formatter(\"[%(levelname)s %(asctime)s %(name)s] - %(message)s\")\n",
    "    )\n",
    "    logger.handlers = [handler]\n",
    "\n",
    "    return logger"
   ]
  },
  {
   "cell_type": "markdown",
   "metadata": {},
   "source": [
    "Creating chat client:"
   ]
  },
  {
   "cell_type": "code",
   "execution_count": null,
   "metadata": {},
   "outputs": [],
   "source": [
    "config = AzureOpenAIConfig(\n",
    "    endpoint=os.environ(\"OPENAI_API_ENDPOINT\"),\n",
    "    api_version=os.environ(\"OPENAI_API_VERSION\"),\n",
    "    model=os.environ(\"OPENAI_API_MODEL\"),\n",
    "    encoding=os.environ(\"OPENAI_ENCODING\"),\n",
    ")\n",
    "\n",
    "chat_client = create_openai_chat_llm(\n",
    "    config,\n",
    "    events=LLMEventsLogger(_create_logger()),\n",
    ")"
   ]
  },
  {
   "cell_type": "code",
   "execution_count": null,
   "metadata": {},
   "outputs": [],
   "source": [
    "response = await chat_client(\n",
    "    \"How's the weather in Seattle?\",\n",
    "    history=[\n",
    "        OpenAIChatRole.System.message(\n",
    "            \"You are an expert on the weather.\",\n",
    "        )\n",
    "    ],\n",
    "    stream=True,\n",
    ")\n",
    "\n",
    "async for chunk in response.output.content:\n",
    "    print(chunk)"
   ]
  }
 ],
 "metadata": {
  "kernelspec": {
   "display_name": ".venv",
   "language": "python",
   "name": "python3"
  },
  "language_info": {
   "codemirror_mode": {
    "name": "ipython",
    "version": 3
   },
   "file_extension": ".py",
   "mimetype": "text/x-python",
   "name": "python",
   "nbconvert_exporter": "python",
   "pygments_lexer": "ipython3",
   "version": "3.11.9"
  }
 },
 "nbformat": 4,
 "nbformat_minor": 2
}
