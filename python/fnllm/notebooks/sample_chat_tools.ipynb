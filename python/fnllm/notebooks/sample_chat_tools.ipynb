{
 "cells": [
  {
   "cell_type": "markdown",
   "metadata": {},
   "source": [
    "## Chat tools\n",
    "\n",
    "Sample notebook to showcase chat usage with tools."
   ]
  },
  {
   "cell_type": "markdown",
   "metadata": {},
   "source": [
    "Required imports:"
   ]
  },
  {
   "cell_type": "code",
   "execution_count": 1,
   "metadata": {},
   "outputs": [],
   "source": [
    "# Copyright (c) 2024 Microsoft Corporation.\n",
    "\n",
    "import logging\n",
    "import os\n",
    "\n",
    "from fnllm import LLMEventsLogger, LLMTool\n",
    "from fnllm.openai import AzureOpenAIConfig, OpenAIChatRole, create_openai_chat_llm\n",
    "from pydantic import Field"
   ]
  },
  {
   "cell_type": "markdown",
   "metadata": {},
   "source": [
    "Example logger to showcase event logging:"
   ]
  },
  {
   "cell_type": "code",
   "execution_count": 2,
   "metadata": {},
   "outputs": [],
   "source": [
    "def _create_logger():\n",
    "    logger = logging.getLogger(\"CHAT\")\n",
    "    logger.setLevel(logging.DEBUG)\n",
    "\n",
    "    handler = logging.StreamHandler()\n",
    "    handler.setLevel(logging.DEBUG)\n",
    "    handler.setFormatter(\n",
    "        logging.Formatter(\"[%(levelname)s %(asctime)s %(name)s] - %(message)s\")\n",
    "    )\n",
    "    logger.handlers = [handler]\n",
    "\n",
    "    return logger"
   ]
  },
  {
   "cell_type": "markdown",
   "metadata": {},
   "source": [
    "Creating chat client:"
   ]
  },
  {
   "cell_type": "code",
   "execution_count": 3,
   "metadata": {},
   "outputs": [],
   "source": [
    "config = AzureOpenAIConfig(\n",
    "    endpoint=os.environ(\"OPENAI_API_ENDPOINT\"),\n",
    "    api_version=os.environ(\"OPENAI_API_VERSION\"),\n",
    "    model=os.environ(\"OPENAI_API_MODEL\"),\n",
    "    encoding=os.environ(\"OPENAI_ENCODING\"),\n",
    ")\n",
    "\n",
    "chat_client = create_openai_chat_llm(config, events=LLMEventsLogger(_create_logger()))"
   ]
  },
  {
   "cell_type": "markdown",
   "metadata": {},
   "source": [
    "Creating tools. The information sent to the LLM will be:\n",
    "\n",
    "- **tool name**: from the class name or overwritten by `__tool_name__`\n",
    "- **tool description**: from the class doc string or overwritten by `__tool_description__`\n",
    "- **parameters**: the attributes with proper types defined in the class (including default values)\n",
    "- **parameter descriptions**: derived from the `Field` description"
   ]
  },
  {
   "cell_type": "code",
   "execution_count": 4,
   "metadata": {},
   "outputs": [],
   "source": [
    "class WeatherForecastTool(LLMTool):\n",
    "    \"\"\"Call this to get the weather forecast for a particular location.\"\"\"\n",
    "\n",
    "    location: str = Field(description=\"Location to get the weather forecast for.\")\n",
    "\n",
    "    date: str | None = Field(\n",
    "        default=None,\n",
    "        description=\"If passed, will provide the weather forecast for a previous time period.\",\n",
    "    )\n",
    "\n",
    "    async def execute(self) -> str:\n",
    "        \"\"\"Execute the tool.\"\"\"\n",
    "        return f\"Weather for {self.location}({self.date or 'now'}) - nice weather.\"\n",
    "\n",
    "\n",
    "class AddNumbersTool(LLMTool):\n",
    "    \"\"\"Call this to sum a list of number.\"\"\"\n",
    "\n",
    "    # by default, will be AddNumbersTool\n",
    "    __tool_name__ = \"add_numbers\"\n",
    "\n",
    "    # by default, will be the class doc string\n",
    "    __tool_description__ = \"Use this to sum a list of number.\"\n",
    "\n",
    "    numbers: list[float | int] = Field(description=\"List of number to sum.\")\n",
    "\n",
    "    async def execute(self) -> float | int:\n",
    "        \"\"\"Execute the tool.\"\"\"\n",
    "        return sum(self.numbers)"
   ]
  },
  {
   "cell_type": "markdown",
   "metadata": {},
   "source": [
    "Calling the LLM:"
   ]
  },
  {
   "cell_type": "code",
   "execution_count": 5,
   "metadata": {},
   "outputs": [
    {
     "name": "stderr",
     "output_type": "stream",
     "text": [
      "[INFO 2024-08-08 09:26:46,432 CHAT] - limit acquired for request, request_tokens=245, post_request_tokens=0\n",
      "[INFO 2024-08-08 09:26:50,311 CHAT] - LLM usage with 200 total tokens (input=146, output=54)\n",
      "[INFO 2024-08-08 09:26:50,312 CHAT] - limit released for request, request_tokens=245, post_request_tokens=0\n",
      "[INFO 2024-08-08 09:26:50,313 CHAT] - request succeed with 0 retries in 3.90s and used 200 tokens\n"
     ]
    }
   ],
   "source": [
    "response_0 = await chat_client(\n",
    "    \"How is the weather in Redmond, US? And what's 2 + 2 + 1\",\n",
    "    tools=[\n",
    "        WeatherForecastTool,\n",
    "        AddNumbersTool,\n",
    "    ],\n",
    ")"
   ]
  },
  {
   "cell_type": "code",
   "execution_count": 6,
   "metadata": {},
   "outputs": [
    {
     "name": "stdout",
     "output_type": "stream",
     "text": [
      "{\n",
      "  \"output\": {\n",
      "    \"raw_input\": {\n",
      "      \"content\": \"How is the weather in Redmond, US? And what's 2 + 2 + 1\",\n",
      "      \"role\": \"user\"\n",
      "    },\n",
      "    \"raw_output\": {\n",
      "      \"content\": null,\n",
      "      \"role\": \"assistant\",\n",
      "      \"function_call\": null,\n",
      "      \"tool_calls\": [\n",
      "        {\n",
      "          \"id\": \"call_Y0RsmenHwmwo19qM7xngaVEY\",\n",
      "          \"function\": {\n",
      "            \"arguments\": \"{\\\"location\\\": \\\"Redmond, US\\\"}\",\n",
      "            \"name\": \"WeatherForecastTool\"\n",
      "          },\n",
      "          \"type\": \"function\"\n",
      "        },\n",
      "        {\n",
      "          \"id\": \"call_CDSTpjUMG6TFI7Uyn9e2o5z1\",\n",
      "          \"function\": {\n",
      "            \"arguments\": \"{\\\"numbers\\\": [2, 2, 1]}\",\n",
      "            \"name\": \"add_numbers\"\n",
      "          },\n",
      "          \"type\": \"function\"\n",
      "        }\n",
      "      ]\n",
      "    },\n",
      "    \"content\": null,\n",
      "    \"usage\": {\n",
      "      \"input_tokens\": 146,\n",
      "      \"output_tokens\": 54,\n",
      "      \"total_tokens\": 200\n",
      "    }\n",
      "  },\n",
      "  \"raw_json\": null,\n",
      "  \"parsed_json\": null,\n",
      "  \"history\": [\n",
      "    {\n",
      "      \"content\": \"How is the weather in Redmond, US? And what's 2 + 2 + 1\",\n",
      "      \"role\": \"user\"\n",
      "    },\n",
      "    {\n",
      "      \"role\": \"assistant\",\n",
      "      \"content\": null,\n",
      "      \"tool_calls\": [\n",
      "        {\n",
      "          \"id\": \"call_Y0RsmenHwmwo19qM7xngaVEY\",\n",
      "          \"function\": {\n",
      "            \"arguments\": \"{\\\"location\\\": \\\"Redmond, US\\\"}\",\n",
      "            \"name\": \"WeatherForecastTool\"\n",
      "          },\n",
      "          \"type\": \"function\"\n",
      "        },\n",
      "        {\n",
      "          \"id\": \"call_CDSTpjUMG6TFI7Uyn9e2o5z1\",\n",
      "          \"function\": {\n",
      "            \"arguments\": \"{\\\"numbers\\\": [2, 2, 1]}\",\n",
      "            \"name\": \"add_numbers\"\n",
      "          },\n",
      "          \"type\": \"function\"\n",
      "        }\n",
      "      ]\n",
      "    }\n",
      "  ],\n",
      "  \"tool_calls\": [\n",
      "    {\n",
      "      \"call_id\": \"call_Y0RsmenHwmwo19qM7xngaVEY\",\n",
      "      \"location\": \"Redmond, US\",\n",
      "      \"date\": null,\n",
      "      \"name\": \"WeatherForecastTool\",\n",
      "      \"description\": \"Call this to get the weather forecast for a particular location.\"\n",
      "    },\n",
      "    {\n",
      "      \"call_id\": \"call_CDSTpjUMG6TFI7Uyn9e2o5z1\",\n",
      "      \"numbers\": [\n",
      "        2,\n",
      "        2,\n",
      "        1\n",
      "      ],\n",
      "      \"name\": \"add_numbers\",\n",
      "      \"description\": \"Use this to sum a list of number.\"\n",
      "    }\n",
      "  ],\n",
      "  \"metrics\": {\n",
      "    \"estimated_input_tokens\": 245,\n",
      "    \"usage\": {\n",
      "      \"input_tokens\": 146,\n",
      "      \"output_tokens\": 54,\n",
      "      \"total_tokens\": 200\n",
      "    },\n",
      "    \"retry\": {\n",
      "      \"num_retries\": 0,\n",
      "      \"total_time\": 3.89922262500113,\n",
      "      \"call_times\": [\n",
      "        3.8991274159998284\n",
      "      ]\n",
      "    },\n",
      "    \"tokens_diff\": -45\n",
      "  }\n",
      "}\n"
     ]
    }
   ],
   "source": [
    "print(response_0.model_dump_json(indent=2))"
   ]
  },
  {
   "cell_type": "markdown",
   "metadata": {},
   "source": [
    "If tool calls are required by the LLM, instantiated objects of provided `LLMTool`s will be created at the `.tool_calls`:"
   ]
  },
  {
   "cell_type": "code",
   "execution_count": 7,
   "metadata": {},
   "outputs": [
    {
     "data": {
      "text/plain": [
       "[WeatherForecastTool(call_id='call_Y0RsmenHwmwo19qM7xngaVEY', location='Redmond, US', date=None, name='WeatherForecastTool', description='Call this to get the weather forecast for a particular location.'),\n",
       " AddNumbersTool(call_id='call_CDSTpjUMG6TFI7Uyn9e2o5z1', numbers=[2, 2, 1], name='add_numbers', description='Use this to sum a list of number.')]"
      ]
     },
     "execution_count": 7,
     "metadata": {},
     "output_type": "execute_result"
    }
   ],
   "source": [
    "response_0.tool_calls"
   ]
  },
  {
   "cell_type": "markdown",
   "metadata": {},
   "source": [
    "Sending to the LLM the reply back with tool call result:"
   ]
  },
  {
   "cell_type": "code",
   "execution_count": 8,
   "metadata": {},
   "outputs": [
    {
     "data": {
      "text/plain": [
       "[{'content': 'Weather for Redmond, US(now) - nice weather.',\n",
       "  'tool_call_id': 'call_Y0RsmenHwmwo19qM7xngaVEY',\n",
       "  'role': 'tool'},\n",
       " {'content': '5',\n",
       "  'tool_call_id': 'call_CDSTpjUMG6TFI7Uyn9e2o5z1',\n",
       "  'role': 'tool'}]"
      ]
     },
     "execution_count": 8,
     "metadata": {},
     "output_type": "execute_result"
    }
   ],
   "source": [
    "replies = [\n",
    "    OpenAIChatRole.Tool.message(\n",
    "        str(await tool.execute()), tool_call_id=tool.call_id or \"\"\n",
    "    )\n",
    "    for tool in response_0.tool_calls\n",
    "]\n",
    "replies"
   ]
  },
  {
   "cell_type": "code",
   "execution_count": 9,
   "metadata": {},
   "outputs": [
    {
     "name": "stderr",
     "output_type": "stream",
     "text": [
      "[INFO 2024-08-08 09:26:50,337 CHAT] - limit acquired for request, request_tokens=459, post_request_tokens=0\n",
      "[INFO 2024-08-08 09:26:51,045 CHAT] - LLM usage with 251 total tokens (input=226, output=25)\n",
      "[INFO 2024-08-08 09:26:51,045 CHAT] - limit released for request, request_tokens=459, post_request_tokens=0\n",
      "[INFO 2024-08-08 09:26:51,046 CHAT] - request succeed with 0 retries in 0.71s and used 251 tokens\n"
     ]
    }
   ],
   "source": [
    "response_1 = await chat_client(\n",
    "    None,\n",
    "    history=[*response_0.history, *replies],\n",
    "    tools=[\n",
    "        WeatherForecastTool,\n",
    "        AddNumbersTool,\n",
    "    ],\n",
    ")"
   ]
  },
  {
   "cell_type": "code",
   "execution_count": 10,
   "metadata": {},
   "outputs": [
    {
     "name": "stdout",
     "output_type": "stream",
     "text": [
      "{\n",
      "  \"output\": {\n",
      "    \"raw_input\": null,\n",
      "    \"raw_output\": {\n",
      "      \"content\": \"- The weather in Redmond, US is nice.\\n- 2 + 2 + 1 equals 5.\",\n",
      "      \"role\": \"assistant\",\n",
      "      \"function_call\": null,\n",
      "      \"tool_calls\": null\n",
      "    },\n",
      "    \"content\": \"- The weather in Redmond, US is nice.\\n- 2 + 2 + 1 equals 5.\",\n",
      "    \"usage\": {\n",
      "      \"input_tokens\": 226,\n",
      "      \"output_tokens\": 25,\n",
      "      \"total_tokens\": 251\n",
      "    }\n",
      "  },\n",
      "  \"raw_json\": null,\n",
      "  \"parsed_json\": null,\n",
      "  \"history\": [\n",
      "    {\n",
      "      \"content\": \"How is the weather in Redmond, US? And what's 2 + 2 + 1\",\n",
      "      \"role\": \"user\"\n",
      "    },\n",
      "    {\n",
      "      \"role\": \"assistant\",\n",
      "      \"content\": null,\n",
      "      \"tool_calls\": [\n",
      "        {\n",
      "          \"id\": \"call_Y0RsmenHwmwo19qM7xngaVEY\",\n",
      "          \"function\": {\n",
      "            \"arguments\": \"{\\\"location\\\": \\\"Redmond, US\\\"}\",\n",
      "            \"name\": \"WeatherForecastTool\"\n",
      "          },\n",
      "          \"type\": \"function\"\n",
      "        },\n",
      "        {\n",
      "          \"id\": \"call_CDSTpjUMG6TFI7Uyn9e2o5z1\",\n",
      "          \"function\": {\n",
      "            \"arguments\": \"{\\\"numbers\\\": [2, 2, 1]}\",\n",
      "            \"name\": \"add_numbers\"\n",
      "          },\n",
      "          \"type\": \"function\"\n",
      "        }\n",
      "      ]\n",
      "    },\n",
      "    {\n",
      "      \"content\": \"Weather for Redmond, US(now) - nice weather.\",\n",
      "      \"tool_call_id\": \"call_Y0RsmenHwmwo19qM7xngaVEY\",\n",
      "      \"role\": \"tool\"\n",
      "    },\n",
      "    {\n",
      "      \"content\": \"5\",\n",
      "      \"tool_call_id\": \"call_CDSTpjUMG6TFI7Uyn9e2o5z1\",\n",
      "      \"role\": \"tool\"\n",
      "    },\n",
      "    {\n",
      "      \"role\": \"assistant\",\n",
      "      \"content\": \"- The weather in Redmond, US is nice.\\n- 2 + 2 + 1 equals 5.\"\n",
      "    }\n",
      "  ],\n",
      "  \"tool_calls\": [],\n",
      "  \"metrics\": {\n",
      "    \"estimated_input_tokens\": 459,\n",
      "    \"usage\": {\n",
      "      \"input_tokens\": 226,\n",
      "      \"output_tokens\": 25,\n",
      "      \"total_tokens\": 251\n",
      "    },\n",
      "    \"retry\": {\n",
      "      \"num_retries\": 0,\n",
      "      \"total_time\": 0.7090038329988602,\n",
      "      \"call_times\": [\n",
      "        0.7089185420009017\n",
      "      ]\n",
      "    },\n",
      "    \"tokens_diff\": -208\n",
      "  }\n",
      "}\n"
     ]
    }
   ],
   "source": [
    "print(response_1.model_dump_json(indent=2))"
   ]
  },
  {
   "cell_type": "code",
   "execution_count": 11,
   "metadata": {},
   "outputs": [
    {
     "name": "stdout",
     "output_type": "stream",
     "text": [
      "- The weather in Redmond, US is nice.\n",
      "- 2 + 2 + 1 equals 5.\n"
     ]
    }
   ],
   "source": [
    "print(response_1.output.content)"
   ]
  }
 ],
 "metadata": {
  "kernelspec": {
   "display_name": ".venv",
   "language": "python",
   "name": "python3"
  },
  "language_info": {
   "codemirror_mode": {
    "name": "ipython",
    "version": 3
   },
   "file_extension": ".py",
   "mimetype": "text/x-python",
   "name": "python",
   "nbconvert_exporter": "python",
   "pygments_lexer": "ipython3",
   "version": "3.11.9"
  }
 },
 "nbformat": 4,
 "nbformat_minor": 2
}
